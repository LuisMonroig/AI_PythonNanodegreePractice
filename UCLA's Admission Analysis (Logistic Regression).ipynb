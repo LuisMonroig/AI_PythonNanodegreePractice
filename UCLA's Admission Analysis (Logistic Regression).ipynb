{
 "cells": [
  {
   "cell_type": "markdown",
   "metadata": {},
   "source": [
    "# Logistic Regression on UCLA's Admission Data \n",
    "\n",
    "\n",
    "<img src = \"UCLA_image.png\" alt = \"UCLA Logo\" length = 250 width = 250 />\n",
    " \n"
   ]
  },
  {
   "cell_type": "markdown",
   "metadata": {},
   "source": [
    "We will use the logistic regression algorithm to develop a basic Neural Network that accurately determines if a student is accepted to UCLA or not. The features being used will be the GRE scores of the students, the GPA of the students, and the student rank (i.e. Explanation of Rank). \n",
    "\n",
    "At first, we will see logistic regression applied using only 1 feature: the gpa. After we complete this algorthm, and we make sure with visualizations that the algorithm is working correctly, we will use all three features and implement a multifeature logistic regression. We will always mean normalization for feature scaling and regularization to avoid overfitting. \n",
    "\n",
    "Since the data has 400 values we as usual will use 80% percent of the data(i.e. 400(.8) = 320 rows) for trainning and the other 20%(i.e.80 rows).\n",
    "\n",
    "Let us start by importing the most important libraries, definning the sigmoid function and converting the data to the ideal format."
   ]
  },
  {
   "cell_type": "code",
   "execution_count": 1,
   "metadata": {},
   "outputs": [
    {
     "name": "stdout",
     "output_type": "stream",
     "text": [
      "<class 'pandas.core.frame.DataFrame'>\n",
      "RangeIndex: 400 entries, 0 to 399\n",
      "Data columns (total 4 columns):\n",
      " #   Column  Non-Null Count  Dtype  \n",
      "---  ------  --------------  -----  \n",
      " 0   admit   400 non-null    int64  \n",
      " 1   gre     400 non-null    int64  \n",
      " 2   gpa     400 non-null    float64\n",
      " 3   rank    400 non-null    int64  \n",
      "dtypes: float64(1), int64(3)\n",
      "memory usage: 12.6 KB\n",
      "None\n",
      "Index(['admit', 'gre', 'gpa', 'rank'], dtype='object')\n"
     ]
    }
   ],
   "source": [
    "from matplotlib import pyplot as plt\n",
    "import numpy as np\n",
    "import pandas as pd\n",
    "\n",
    "#defining the sigmoid function for logistic regression as sig\n",
    "sig = lambda X: 1/(1+np.exp(-X))\n",
    "\n",
    "UCLA_data = pd.read_csv('/users/luise/desktop/Jupyter_Notebooks/UCLA_Admissions_Data.csv')\n",
    "\n",
    "\n",
    "print(UCLA_data.info())\n",
    "print(UCLA_data.columns)"
   ]
  },
  {
   "cell_type": "code",
   "execution_count": 2,
   "metadata": {},
   "outputs": [
    {
     "data": {
      "text/html": [
       "<div>\n",
       "<style scoped>\n",
       "    .dataframe tbody tr th:only-of-type {\n",
       "        vertical-align: middle;\n",
       "    }\n",
       "\n",
       "    .dataframe tbody tr th {\n",
       "        vertical-align: top;\n",
       "    }\n",
       "\n",
       "    .dataframe thead th {\n",
       "        text-align: right;\n",
       "    }\n",
       "</style>\n",
       "<table border=\"1\" class=\"dataframe\">\n",
       "  <thead>\n",
       "    <tr style=\"text-align: right;\">\n",
       "      <th></th>\n",
       "      <th>admit</th>\n",
       "      <th>gre</th>\n",
       "      <th>gpa</th>\n",
       "      <th>rank</th>\n",
       "    </tr>\n",
       "  </thead>\n",
       "  <tbody>\n",
       "    <tr>\n",
       "      <th>0</th>\n",
       "      <td>0</td>\n",
       "      <td>380</td>\n",
       "      <td>3.61</td>\n",
       "      <td>3</td>\n",
       "    </tr>\n",
       "    <tr>\n",
       "      <th>1</th>\n",
       "      <td>1</td>\n",
       "      <td>660</td>\n",
       "      <td>3.67</td>\n",
       "      <td>3</td>\n",
       "    </tr>\n",
       "    <tr>\n",
       "      <th>2</th>\n",
       "      <td>1</td>\n",
       "      <td>800</td>\n",
       "      <td>4.00</td>\n",
       "      <td>1</td>\n",
       "    </tr>\n",
       "    <tr>\n",
       "      <th>3</th>\n",
       "      <td>1</td>\n",
       "      <td>640</td>\n",
       "      <td>3.19</td>\n",
       "      <td>4</td>\n",
       "    </tr>\n",
       "    <tr>\n",
       "      <th>4</th>\n",
       "      <td>0</td>\n",
       "      <td>520</td>\n",
       "      <td>2.93</td>\n",
       "      <td>4</td>\n",
       "    </tr>\n",
       "  </tbody>\n",
       "</table>\n",
       "</div>"
      ],
      "text/plain": [
       "   admit  gre   gpa  rank\n",
       "0      0  380  3.61     3\n",
       "1      1  660  3.67     3\n",
       "2      1  800  4.00     1\n",
       "3      1  640  3.19     4\n",
       "4      0  520  2.93     4"
      ]
     },
     "execution_count": 2,
     "metadata": {},
     "output_type": "execute_result"
    }
   ],
   "source": [
    "UCLA_data.head() #print jupyter"
   ]
  },
  {
   "cell_type": "markdown",
   "metadata": {},
   "source": []
  },
  {
   "cell_type": "code",
   "execution_count": 3,
   "metadata": {},
   "outputs": [
    {
     "data": {
      "text/html": [
       "<div>\n",
       "<style scoped>\n",
       "    .dataframe tbody tr th:only-of-type {\n",
       "        vertical-align: middle;\n",
       "    }\n",
       "\n",
       "    .dataframe tbody tr th {\n",
       "        vertical-align: top;\n",
       "    }\n",
       "\n",
       "    .dataframe thead th {\n",
       "        text-align: right;\n",
       "    }\n",
       "</style>\n",
       "<table border=\"1\" class=\"dataframe\">\n",
       "  <thead>\n",
       "    <tr style=\"text-align: right;\">\n",
       "      <th></th>\n",
       "      <th>admit</th>\n",
       "      <th>gre</th>\n",
       "      <th>gpa</th>\n",
       "      <th>rank</th>\n",
       "    </tr>\n",
       "  </thead>\n",
       "  <tbody>\n",
       "    <tr>\n",
       "      <th>0</th>\n",
       "      <td>0</td>\n",
       "      <td>380</td>\n",
       "      <td>3.61</td>\n",
       "      <td>3</td>\n",
       "    </tr>\n",
       "    <tr>\n",
       "      <th>1</th>\n",
       "      <td>1</td>\n",
       "      <td>660</td>\n",
       "      <td>3.67</td>\n",
       "      <td>3</td>\n",
       "    </tr>\n",
       "    <tr>\n",
       "      <th>2</th>\n",
       "      <td>1</td>\n",
       "      <td>800</td>\n",
       "      <td>4.00</td>\n",
       "      <td>1</td>\n",
       "    </tr>\n",
       "    <tr>\n",
       "      <th>3</th>\n",
       "      <td>1</td>\n",
       "      <td>640</td>\n",
       "      <td>3.19</td>\n",
       "      <td>4</td>\n",
       "    </tr>\n",
       "    <tr>\n",
       "      <th>4</th>\n",
       "      <td>0</td>\n",
       "      <td>520</td>\n",
       "      <td>2.93</td>\n",
       "      <td>4</td>\n",
       "    </tr>\n",
       "    <tr>\n",
       "      <th>...</th>\n",
       "      <td>...</td>\n",
       "      <td>...</td>\n",
       "      <td>...</td>\n",
       "      <td>...</td>\n",
       "    </tr>\n",
       "    <tr>\n",
       "      <th>315</th>\n",
       "      <td>1</td>\n",
       "      <td>300</td>\n",
       "      <td>2.84</td>\n",
       "      <td>2</td>\n",
       "    </tr>\n",
       "    <tr>\n",
       "      <th>316</th>\n",
       "      <td>1</td>\n",
       "      <td>340</td>\n",
       "      <td>3.00</td>\n",
       "      <td>2</td>\n",
       "    </tr>\n",
       "    <tr>\n",
       "      <th>317</th>\n",
       "      <td>1</td>\n",
       "      <td>780</td>\n",
       "      <td>3.63</td>\n",
       "      <td>4</td>\n",
       "    </tr>\n",
       "    <tr>\n",
       "      <th>318</th>\n",
       "      <td>1</td>\n",
       "      <td>480</td>\n",
       "      <td>3.71</td>\n",
       "      <td>4</td>\n",
       "    </tr>\n",
       "    <tr>\n",
       "      <th>319</th>\n",
       "      <td>0</td>\n",
       "      <td>540</td>\n",
       "      <td>3.28</td>\n",
       "      <td>1</td>\n",
       "    </tr>\n",
       "  </tbody>\n",
       "</table>\n",
       "<p>320 rows × 4 columns</p>\n",
       "</div>"
      ],
      "text/plain": [
       "     admit  gre   gpa  rank\n",
       "0        0  380  3.61     3\n",
       "1        1  660  3.67     3\n",
       "2        1  800  4.00     1\n",
       "3        1  640  3.19     4\n",
       "4        0  520  2.93     4\n",
       "..     ...  ...   ...   ...\n",
       "315      1  300  2.84     2\n",
       "316      1  340  3.00     2\n",
       "317      1  780  3.63     4\n",
       "318      1  480  3.71     4\n",
       "319      0  540  3.28     1\n",
       "\n",
       "[320 rows x 4 columns]"
      ]
     },
     "execution_count": 3,
     "metadata": {},
     "output_type": "execute_result"
    }
   ],
   "source": [
    "UCLA_trainning_data = UCLA_data.loc[np.arange(320)] #choosing the first 320 as trainning data set\n",
    "#UCLA_test_data = UCLA_data.loc[np.arange(320,400)]\n",
    "\n",
    "UCLA_trainning_data #print jupyter"
   ]
  },
  {
   "cell_type": "markdown",
   "metadata": {},
   "source": [
    "## We will now normalize the data using mean normalization"
   ]
  },
  {
   "cell_type": "code",
   "execution_count": 4,
   "metadata": {},
   "outputs": [
    {
     "data": {
      "text/plain": [
       "array([[ 1.        , -0.35732759,  0.12789152,  0.15416667],\n",
       "       [ 1.        ,  0.12543103,  0.16237428,  0.15416667],\n",
       "       [ 1.        ,  0.36681034,  0.35202945, -0.5125    ],\n",
       "       ...,\n",
       "       [ 1.        ,  0.33232759,  0.13938578,  0.4875    ],\n",
       "       [ 1.        , -0.18491379,  0.18536279,  0.4875    ],\n",
       "       [ 1.        , -0.08146552, -0.06176365, -0.5125    ]])"
      ]
     },
     "execution_count": 4,
     "metadata": {},
     "output_type": "execute_result"
    }
   ],
   "source": [
    "#we'll redefine/reassign to X to use as matrix of multiple features\n",
    "X = np.hstack((np.ones((320,1)), UCLA_trainning_data[['gre','gpa','rank']].values.reshape(320,3)))\n",
    "\n",
    "\n",
    "\n",
    "x_max = np.array([np.max(X[:,i+1]) for i in range(3)])  #contains values for feature scaling; plus 1 to avoid lookup in column of ones \n",
    "x_min = np.array([np.min(X[:,i+1]) for i in range(3)])  #contains values for feature scaling; plus 1 to avoid lookup in column of ones\n",
    "x_mean = np.array([np.mean(X[:,i+1]) for i in range(3)])#contains means for feature scaling; plus 1 to avoid average column of ones\n",
    "\n",
    "# implementing mean normalization\n",
    "normalized_trainning_data = X #initializing new variable\n",
    "\n",
    "normalized_trainning_data[:,1] = (X[:,1] - x_mean[0])/(x_max[0]-x_min[0])\n",
    "normalized_trainning_data[:,2] = (X[:,2] - x_mean[1])/(x_max[1]-x_min[1])\n",
    "normalized_trainning_data[:,3] = (X[:,3] - x_mean[2])/(x_max[2]-x_min[2])\n",
    "\n",
    "normalized_trainning_data #print jupyter # in an np array"
   ]
  },
  {
   "cell_type": "markdown",
   "metadata": {},
   "source": [
    "For more information on the different types of feature scaling tecchniques we recomend the following site: [Feature Scaling for Machine Learning](https://www.analyticsvidhya.com/blog/2020/04/feature-scaling-machine-learning-normalization-standardization/)."
   ]
  },
  {
   "cell_type": "code",
   "execution_count": 5,
   "metadata": {},
   "outputs": [
    {
     "name": "stdout",
     "output_type": "stream",
     "text": [
      "[[ 0.315625  ]\n",
      " [ 0.2486074 ]\n",
      " [ 0.28843583]\n",
      " [-0.34029349]]\n"
     ]
    },
    {
     "data": {
      "text/plain": [
       "array([0.44158907, 0.44270264, 0.44338698, 0.44376325, 0.44392505,\n",
       "       0.4439411 , 0.44386038, 0.44371711, 0.44353489, 0.44332983,\n",
       "       0.4431128 , 0.44289107, 0.44266945, 0.44245107, 0.44223791,\n",
       "       0.44203117, 0.44183156, 0.4416394 , 0.44145482, 0.44127777,\n",
       "       0.44110813, 0.4409457 , 0.44079024, 0.44064151, 0.44049925,\n",
       "       0.4403632 , 0.44023309, 0.44010868, 0.43998973, 0.43987599,\n",
       "       0.43976724, 0.43966326, 0.43956384, 0.43946879, 0.43937791,\n",
       "       0.43929103, 0.43920796, 0.43912855, 0.43905263, 0.43898006,\n",
       "       0.43891069, 0.43884438, 0.438781  , 0.43872042, 0.43866254,\n",
       "       0.43860722, 0.43855436, 0.43850387, 0.43845563, 0.43840955,\n",
       "       0.43836554, 0.43832351, 0.43828338, 0.43824508, 0.43820851,\n",
       "       0.43817361, 0.43814031, 0.43810855, 0.43807825, 0.43804935,\n",
       "       0.43802181, 0.43799555, 0.43797053, 0.43794669, 0.43792399,\n",
       "       0.43790238, 0.43788181, 0.43786223, 0.43784361, 0.43782591,\n",
       "       0.43780908, 0.4377931 , 0.43777792, 0.43776351, 0.43774984,\n",
       "       0.43773687, 0.43772458, 0.43771294, 0.43770193, 0.4376915 ,\n",
       "       0.43768165, 0.43767234, 0.43766355, 0.43765526, 0.43764745,\n",
       "       0.43764009, 0.43763317, 0.43762667, 0.43762057, 0.43761485,\n",
       "       0.4376095 , 0.4376045 , 0.43759983, 0.43759548, 0.43759143,\n",
       "       0.43758767, 0.4375842 , 0.43758099, 0.43757803, 0.43757531,\n",
       "       0.43757283, 0.43757056, 0.4375685 , 0.43756665, 0.43756498,\n",
       "       0.4375635 , 0.43756218, 0.43756104, 0.43756005, 0.4375592 ,\n",
       "       0.4375585 , 0.43755794, 0.4375575 , 0.43755718, 0.43755698,\n",
       "       0.43755689, 0.4375569 , 0.43755701, 0.43755721, 0.4375575 ,\n",
       "       0.43755787, 0.43755832, 0.43755884, 0.43755944, 0.43756009,\n",
       "       0.43756082, 0.43756159, 0.43756243, 0.43756331, 0.43756424,\n",
       "       0.43756522, 0.43756624, 0.4375673 , 0.43756839, 0.43756952,\n",
       "       0.43757068, 0.43757186, 0.43757308, 0.43757432, 0.43757558,\n",
       "       0.43757686, 0.43757816, 0.43757947, 0.4375808 , 0.43758215,\n",
       "       0.4375835 , 0.43758487, 0.43758625, 0.43758763, 0.43758902,\n",
       "       0.43759041, 0.43759181, 0.43759321, 0.43759462, 0.43759602,\n",
       "       0.43759742, 0.43759883, 0.43760023, 0.43760163, 0.43760302,\n",
       "       0.43760441, 0.4376058 , 0.43760718, 0.43760855, 0.43760992,\n",
       "       0.43761129, 0.43761264, 0.43761399, 0.43761532, 0.43761665,\n",
       "       0.43761797, 0.43761928, 0.43762059, 0.43762188, 0.43762316,\n",
       "       0.43762443, 0.43762569, 0.43762693, 0.43762817, 0.43762939,\n",
       "       0.43763061, 0.43763181, 0.437633  , 0.43763418, 0.43763534,\n",
       "       0.43763649, 0.43763763, 0.43763876, 0.43763988, 0.43764098,\n",
       "       0.43764207, 0.43764315, 0.43764422, 0.43764527, 0.43764631,\n",
       "       0.43764734, 0.43764835, 0.43764935, 0.43765034, 0.43765132,\n",
       "       0.43765229, 0.43765324, 0.43765418, 0.43765511, 0.43765602,\n",
       "       0.43765693, 0.43765782, 0.4376587 , 0.43765957, 0.43766042,\n",
       "       0.43766127, 0.4376621 , 0.43766292, 0.43766373, 0.43766453,\n",
       "       0.43766532, 0.43766609, 0.43766686, 0.43766761, 0.43766835,\n",
       "       0.43766908, 0.43766981, 0.43767052, 0.43767122, 0.43767191,\n",
       "       0.43767259, 0.43767326, 0.43767392, 0.43767457, 0.43767521,\n",
       "       0.43767584, 0.43767646, 0.43767707, 0.43767767, 0.43767827,\n",
       "       0.43767885, 0.43767943, 0.43767999, 0.43768055, 0.4376811 ,\n",
       "       0.43768164, 0.43768217, 0.43768269, 0.43768321, 0.43768372,\n",
       "       0.43768422, 0.43768471, 0.43768519, 0.43768567, 0.43768614,\n",
       "       0.4376866 , 0.43768705, 0.4376875 , 0.43768794, 0.43768837,\n",
       "       0.4376888 , 0.43768922, 0.43768963, 0.43769004, 0.43769044,\n",
       "       0.43769083, 0.43769122, 0.4376916 , 0.43769197, 0.43769234,\n",
       "       0.4376927 , 0.43769306, 0.43769341, 0.43769376, 0.4376941 ,\n",
       "       0.43769443, 0.43769476, 0.43769508, 0.4376954 , 0.43769571,\n",
       "       0.43769602, 0.43769633, 0.43769662, 0.43769692, 0.43769721,\n",
       "       0.43769749, 0.43769777, 0.43769804, 0.43769831, 0.43769858,\n",
       "       0.43769884, 0.4376991 , 0.43769935, 0.4376996 , 0.43769984,\n",
       "       0.43770008, 0.43770032, 0.43770055, 0.43770078, 0.43770101,\n",
       "       0.43770123, 0.43770145, 0.43770166, 0.43770187, 0.43770208,\n",
       "       0.43770229, 0.43770249, 0.43770269, 0.43770288, 0.43770307,\n",
       "       0.43770326, 0.43770344, 0.43770363, 0.43770381, 0.43770398,\n",
       "       0.43770416, 0.43770433, 0.43770449, 0.43770466, 0.43770482,\n",
       "       0.43770498, 0.43770514, 0.43770529, 0.43770545, 0.43770559,\n",
       "       0.43770574, 0.43770589, 0.43770603, 0.43770617, 0.43770631,\n",
       "       0.43770644, 0.43770658, 0.43770671, 0.43770684, 0.43770697,\n",
       "       0.43770709, 0.43770721, 0.43770734, 0.43770745, 0.43770757,\n",
       "       0.43770769, 0.4377078 , 0.43770791, 0.43770802, 0.43770813,\n",
       "       0.43770824, 0.43770834, 0.43770845, 0.43770855, 0.43770865,\n",
       "       0.43770875, 0.43770884, 0.43770894, 0.43770903, 0.43770912,\n",
       "       0.43770922, 0.43770931, 0.43770939, 0.43770948, 0.43770957,\n",
       "       0.43770965, 0.43770973, 0.43770981, 0.43770989, 0.43770997,\n",
       "       0.43771005, 0.43771013, 0.4377102 , 0.43771028, 0.43771035,\n",
       "       0.43771042, 0.43771049, 0.43771056, 0.43771063, 0.4377107 ,\n",
       "       0.43771076, 0.43771083, 0.4377109 , 0.43771096, 0.43771102,\n",
       "       0.43771108, 0.43771114, 0.4377112 , 0.43771126, 0.43771132,\n",
       "       0.43771138, 0.43771143, 0.43771149, 0.43771154, 0.4377116 ,\n",
       "       0.43771165, 0.4377117 , 0.43771175, 0.4377118 , 0.43771185,\n",
       "       0.4377119 , 0.43771195, 0.437712  , 0.43771205, 0.43771209,\n",
       "       0.43771214, 0.43771218, 0.43771223, 0.43771227, 0.43771232,\n",
       "       0.43771236, 0.4377124 , 0.43771244, 0.43771248, 0.43771252,\n",
       "       0.43771256, 0.4377126 , 0.43771264, 0.43771268, 0.43771271,\n",
       "       0.43771275, 0.43771279, 0.43771282, 0.43771286, 0.43771289,\n",
       "       0.43771293, 0.43771296, 0.43771299, 0.43771303, 0.43771306,\n",
       "       0.43771309, 0.43771312, 0.43771315, 0.43771318, 0.43771321,\n",
       "       0.43771324, 0.43771327, 0.4377133 , 0.43771333, 0.43771336,\n",
       "       0.43771339, 0.43771341, 0.43771344, 0.43771347, 0.43771349,\n",
       "       0.43771352, 0.43771354, 0.43771357, 0.43771359, 0.43771362,\n",
       "       0.43771364, 0.43771367, 0.43771369, 0.43771371, 0.43771374,\n",
       "       0.43771376, 0.43771378, 0.4377138 , 0.43771383, 0.43771385,\n",
       "       0.43771387, 0.43771389, 0.43771391, 0.43771393, 0.43771395,\n",
       "       0.43771397, 0.43771399, 0.43771401, 0.43771403, 0.43771405,\n",
       "       0.43771407, 0.43771408, 0.4377141 , 0.43771412, 0.43771414,\n",
       "       0.43771416, 0.43771417, 0.43771419, 0.43771421, 0.43771422,\n",
       "       0.43771424, 0.43771426, 0.43771427, 0.43771429, 0.4377143 ,\n",
       "       0.43771432, 0.43771433, 0.43771435, 0.43771436, 0.43771438,\n",
       "       0.43771439, 0.43771441, 0.43771442, 0.43771443, 0.43771445,\n",
       "       0.43771446, 0.43771448, 0.43771449, 0.4377145 , 0.43771452,\n",
       "       0.43771453, 0.43771454, 0.43771455, 0.43771457, 0.43771458,\n",
       "       0.43771459, 0.4377146 , 0.43771461, 0.43771463, 0.43771464,\n",
       "       0.43771465, 0.43771466, 0.43771467, 0.43771468, 0.43771469,\n",
       "       0.4377147 , 0.43771471, 0.43771472, 0.43771473, 0.43771474,\n",
       "       0.43771475, 0.43771476, 0.43771477, 0.43771478, 0.43771479,\n",
       "       0.4377148 , 0.43771481, 0.43771482, 0.43771483, 0.43771484,\n",
       "       0.43771485, 0.43771486, 0.43771487, 0.43771488, 0.43771489,\n",
       "       0.43771489, 0.4377149 , 0.43771491, 0.43771492, 0.43771493,\n",
       "       0.43771494, 0.43771494, 0.43771495, 0.43771496, 0.43771497,\n",
       "       0.43771497, 0.43771498, 0.43771499, 0.437715  , 0.437715  ,\n",
       "       0.43771501, 0.43771502, 0.43771503, 0.43771503, 0.43771504,\n",
       "       0.43771505, 0.43771505, 0.43771506, 0.43771507, 0.43771507,\n",
       "       0.43771508, 0.43771509, 0.43771509, 0.4377151 , 0.43771511,\n",
       "       0.43771511, 0.43771512, 0.43771512, 0.43771513, 0.43771514,\n",
       "       0.43771514, 0.43771515, 0.43771515, 0.43771516, 0.43771516,\n",
       "       0.43771517, 0.43771518, 0.43771518, 0.43771519, 0.43771519,\n",
       "       0.4377152 , 0.4377152 , 0.43771521, 0.43771521, 0.43771522,\n",
       "       0.43771522, 0.43771523, 0.43771523, 0.43771524, 0.43771524,\n",
       "       0.43771525, 0.43771525, 0.43771526, 0.43771526, 0.43771527,\n",
       "       0.43771527, 0.43771528, 0.43771528, 0.43771528, 0.43771529,\n",
       "       0.43771529, 0.4377153 , 0.4377153 , 0.43771531, 0.43771531,\n",
       "       0.43771531, 0.43771532, 0.43771532, 0.43771533, 0.43771533,\n",
       "       0.43771533, 0.43771534, 0.43771534, 0.43771535, 0.43771535,\n",
       "       0.43771535, 0.43771536, 0.43771536, 0.43771536, 0.43771537,\n",
       "       0.43771537, 0.43771537, 0.43771538, 0.43771538, 0.43771538,\n",
       "       0.43771539, 0.43771539, 0.43771539, 0.4377154 , 0.4377154 ,\n",
       "       0.4377154 , 0.43771541, 0.43771541, 0.43771541, 0.43771542,\n",
       "       0.43771542, 0.43771542, 0.43771543, 0.43771543, 0.43771543,\n",
       "       0.43771544, 0.43771544, 0.43771544, 0.43771544, 0.43771545,\n",
       "       0.43771545, 0.43771545, 0.43771546, 0.43771546, 0.43771546,\n",
       "       0.43771546, 0.43771547, 0.43771547, 0.43771547, 0.43771547,\n",
       "       0.43771548, 0.43771548, 0.43771548, 0.43771548, 0.43771549,\n",
       "       0.43771549, 0.43771549, 0.43771549, 0.4377155 , 0.4377155 ,\n",
       "       0.4377155 , 0.4377155 , 0.43771551, 0.43771551, 0.43771551,\n",
       "       0.43771551, 0.43771551, 0.43771552, 0.43771552, 0.43771552,\n",
       "       0.43771552, 0.43771552, 0.43771553, 0.43771553, 0.43771553,\n",
       "       0.43771553, 0.43771553, 0.43771554, 0.43771554, 0.43771554,\n",
       "       0.43771554, 0.43771554, 0.43771555, 0.43771555, 0.43771555,\n",
       "       0.43771555, 0.43771555, 0.43771556, 0.43771556, 0.43771556,\n",
       "       0.43771556, 0.43771556, 0.43771556, 0.43771557, 0.43771557,\n",
       "       0.43771557, 0.43771557, 0.43771557, 0.43771557, 0.43771558,\n",
       "       0.43771558, 0.43771558, 0.43771558, 0.43771558, 0.43771558,\n",
       "       0.43771559, 0.43771559, 0.43771559, 0.43771559, 0.43771559,\n",
       "       0.43771559, 0.4377156 , 0.4377156 , 0.4377156 , 0.4377156 ,\n",
       "       0.4377156 , 0.4377156 , 0.4377156 , 0.4377156 , 0.43771561,\n",
       "       0.43771561, 0.43771561, 0.43771561, 0.43771561, 0.43771561,\n",
       "       0.43771561, 0.43771562, 0.43771562, 0.43771562, 0.43771562,\n",
       "       0.43771562, 0.43771562, 0.43771562, 0.43771562, 0.43771563,\n",
       "       0.43771563, 0.43771563, 0.43771563, 0.43771563, 0.43771563,\n",
       "       0.43771563, 0.43771563, 0.43771563, 0.43771564, 0.43771564,\n",
       "       0.43771564, 0.43771564, 0.43771564, 0.43771564, 0.43771564,\n",
       "       0.43771564, 0.43771564, 0.43771565, 0.43771565, 0.43771565,\n",
       "       0.43771565, 0.43771565, 0.43771565, 0.43771565, 0.43771565,\n",
       "       0.43771565, 0.43771565, 0.43771565, 0.43771566, 0.43771566,\n",
       "       0.43771566, 0.43771566, 0.43771566, 0.43771566, 0.43771566,\n",
       "       0.43771566, 0.43771566, 0.43771566, 0.43771566, 0.43771567,\n",
       "       0.43771567, 0.43771567, 0.43771567, 0.43771567, 0.43771567,\n",
       "       0.43771567, 0.43771567, 0.43771567, 0.43771567, 0.43771567,\n",
       "       0.43771567, 0.43771568, 0.43771568, 0.43771568, 0.43771568,\n",
       "       0.43771568, 0.43771568, 0.43771568, 0.43771568, 0.43771568,\n",
       "       0.43771568, 0.43771568, 0.43771568, 0.43771568, 0.43771568,\n",
       "       0.43771569, 0.43771569, 0.43771569, 0.43771569, 0.43771569,\n",
       "       0.43771569, 0.43771569, 0.43771569, 0.43771569, 0.43771569,\n",
       "       0.43771569, 0.43771569, 0.43771569, 0.43771569, 0.43771569,\n",
       "       0.43771569, 0.4377157 , 0.4377157 , 0.4377157 , 0.4377157 ,\n",
       "       0.4377157 , 0.4377157 , 0.4377157 , 0.4377157 , 0.4377157 ,\n",
       "       0.4377157 , 0.4377157 , 0.4377157 , 0.4377157 , 0.4377157 ,\n",
       "       0.4377157 , 0.4377157 , 0.4377157 , 0.4377157 , 0.4377157 ,\n",
       "       0.43771571, 0.43771571, 0.43771571, 0.43771571, 0.43771571,\n",
       "       0.43771571, 0.43771571, 0.43771571, 0.43771571, 0.43771571,\n",
       "       0.43771571, 0.43771571, 0.43771571, 0.43771571, 0.43771571,\n",
       "       0.43771571, 0.43771571, 0.43771571, 0.43771571, 0.43771571,\n",
       "       0.43771571, 0.43771571, 0.43771572, 0.43771572, 0.43771572,\n",
       "       0.43771572, 0.43771572, 0.43771572, 0.43771572, 0.43771572,\n",
       "       0.43771572, 0.43771572, 0.43771572, 0.43771572, 0.43771572,\n",
       "       0.43771572, 0.43771572, 0.43771572, 0.43771572, 0.43771572,\n",
       "       0.43771572, 0.43771572, 0.43771572, 0.43771572, 0.43771572,\n",
       "       0.43771572, 0.43771572, 0.43771572, 0.43771572, 0.43771573,\n",
       "       0.43771573, 0.43771573, 0.43771573, 0.43771573, 0.43771573,\n",
       "       0.43771573, 0.43771573, 0.43771573, 0.43771573, 0.43771573,\n",
       "       0.43771573, 0.43771573, 0.43771573, 0.43771573, 0.43771573,\n",
       "       0.43771573, 0.43771573, 0.43771573, 0.43771573, 0.43771573,\n",
       "       0.43771573, 0.43771573, 0.43771573, 0.43771573, 0.43771573,\n",
       "       0.43771573, 0.43771573, 0.43771573, 0.43771573, 0.43771573,\n",
       "       0.43771573, 0.43771573, 0.43771573, 0.43771573, 0.43771574,\n",
       "       0.43771574, 0.43771574, 0.43771574, 0.43771574, 0.43771574,\n",
       "       0.43771574, 0.43771574, 0.43771574, 0.43771574, 0.43771574,\n",
       "       0.43771574, 0.43771574, 0.43771574, 0.43771574, 0.43771574,\n",
       "       0.43771574, 0.43771574, 0.43771574, 0.43771574, 0.43771574,\n",
       "       0.43771574, 0.43771574, 0.43771574, 0.43771574, 0.43771574,\n",
       "       0.43771574, 0.43771574, 0.43771574, 0.43771574, 0.43771574,\n",
       "       0.43771574, 0.43771574, 0.43771574, 0.43771574, 0.43771574,\n",
       "       0.43771574, 0.43771574, 0.43771574, 0.43771574, 0.43771574,\n",
       "       0.43771574, 0.43771574, 0.43771574, 0.43771574, 0.43771574,\n",
       "       0.43771574, 0.43771574, 0.43771574, 0.43771574, 0.43771574,\n",
       "       0.43771575, 0.43771575, 0.43771575, 0.43771575, 0.43771575,\n",
       "       0.43771575, 0.43771575, 0.43771575, 0.43771575, 0.43771575,\n",
       "       0.43771575, 0.43771575, 0.43771575, 0.43771575, 0.43771575,\n",
       "       0.43771575, 0.43771575, 0.43771575, 0.43771575, 0.43771575,\n",
       "       0.43771575, 0.43771575, 0.43771575, 0.43771575, 0.43771575,\n",
       "       0.43771575, 0.43771575, 0.43771575, 0.43771575, 0.43771575,\n",
       "       0.43771575, 0.43771575, 0.43771575, 0.43771575, 0.43771575])"
      ]
     },
     "execution_count": 5,
     "metadata": {},
     "output_type": "execute_result"
    }
   ],
   "source": [
    "theta = np.random.rand(4,1)  #setting random theta values\n",
    "y = UCLA_trainning_data['admit'].values.reshape(320,1)  # output variable \n",
    "\n",
    "num_training_eg = len(y) #number of training example\n",
    "logistic_error_vector = np.array([])    #declaring nullarray of Mean Square Errors for future visualizations\n",
    "\n",
    "learning_rate = 0.001      #for gradient descent\n",
    "\n",
    "\n",
    "for iteration in range(1000):\n",
    "    \n",
    "    y_hat = np.matmul(normalized_trainning_data,theta)\n",
    "    \n",
    "    cost_vector = y*np.log(sig(y_hat)) + (1-y)*np.log(sig(1 - y_hat))\n",
    "\n",
    "    #logistic error(i.e. error of every trainnin example gives particular weigths) \n",
    "    logistic_error = -1*(1/num_training_eg)*np.sum(cost_vector)\n",
    "    logistic_error_vector = np.append(logistic_error_vector,logistic_error) #for future vizualization\n",
    "    \n",
    "    for index in range(len(cost_vector)):    \n",
    "        theta[0,0] -= learning_rate*(y_hat[index]-y[index]) #updating the bias unit \n",
    "        theta[1,0] -= learning_rate*(y_hat[index]-y[index])*normalized_trainning_data[index,1]\n",
    "        theta[2,0] -= learning_rate*(y_hat[index]-y[index])*normalized_trainning_data[index,2]\n",
    "        theta[3,0] -= learning_rate*(y_hat[index]-y[index])*normalized_trainning_data[index,3]\n",
    "        \n",
    "print(theta)\n",
    "logistic_error_vector"
   ]
  },
  {
   "cell_type": "code",
   "execution_count": 6,
   "metadata": {},
   "outputs": [
    {
     "data": {
      "text/plain": [
       "0.43755688826033734"
      ]
     },
     "execution_count": 6,
     "metadata": {},
     "output_type": "execute_result"
    }
   ],
   "source": [
    "np.min(logistic_error_vector)"
   ]
  },
  {
   "cell_type": "code",
   "execution_count": 7,
   "metadata": {},
   "outputs": [
    {
     "data": {
      "text/plain": [
       "[<matplotlib.lines.Line2D at 0x17f3b534048>]"
      ]
     },
     "execution_count": 7,
     "metadata": {},
     "output_type": "execute_result"
    },
    {
     "data": {
      "image/png": "[encoded data removed]",
      "text/plain": [
       "<Figure size 432x288 with 1 Axes>"
      ]
     },
     "metadata": {
      "needs_background": "light"
     },
     "output_type": "display_data"
    }
   ],
   "source": [
    "# plotting Logistic Error function \n",
    "plt.xlabel(\"Iteration\")\n",
    "plt.ylabel(\"Logistic Error\")\n",
    "#plt.tittle(\"Logistic Error per Iteration\")\n",
    "plt.plot(np.arange(len(logistic_error_vector)),logistic_error_vector)\n"
   ]
  },
  {
   "cell_type": "code",
   "execution_count": 8,
   "metadata": {},
   "outputs": [
    {
     "name": "stdout",
     "output_type": "stream",
     "text": [
      "(4, 1)\n",
      "The hyperplane obtanied is given by the following formula: f(x1,x2,x3) = -0.34029349445260665 x3 + 0.28843582601698 x2 + 0.24860739848854474 x1 + 0.31562499999999927.\n"
     ]
    }
   ],
   "source": [
    "print(theta.shape)\n",
    "print(\"The hyperplane obtanied is given by the following formula: f(x1,x2,x3) = {} x3 + {} x2 + {} x1 + {}.\".format(theta[3][0],theta[2][0],theta[1][0],theta[0][0]))\n"
   ]
  },
  {
   "cell_type": "code",
   "execution_count": 9,
   "metadata": {},
   "outputs": [
    {
     "ename": "TypeError",
     "evalue": "my_range() missing 1 required positional argument: 'x'",
     "output_type": "error",
     "traceback": [
      "\u001b[1;31m---------------------------------------------------------------------------\u001b[0m",
      "\u001b[1;31mTypeError\u001b[0m                                 Traceback (most recent call last)",
      "\u001b[1;32m<ipython-input-9-aab837d6c7be>\u001b[0m in \u001b[0;36m<module>\u001b[1;34m\u001b[0m\n\u001b[0;32m      4\u001b[0m         \u001b[1;32myield\u001b[0m \u001b[0mi\u001b[0m\u001b[1;33m\u001b[0m\u001b[1;33m\u001b[0m\u001b[0m\n\u001b[0;32m      5\u001b[0m         \u001b[0mi\u001b[0m \u001b[1;33m+=\u001b[0m \u001b[1;36m1\u001b[0m\u001b[1;33m\u001b[0m\u001b[1;33m\u001b[0m\u001b[0m\n\u001b[1;32m----> 6\u001b[1;33m \u001b[0mmy_range\u001b[0m\u001b[1;33m(\u001b[0m\u001b[1;33m)\u001b[0m\u001b[1;33m\u001b[0m\u001b[1;33m\u001b[0m\u001b[0m\n\u001b[0m",
      "\u001b[1;31mTypeError\u001b[0m: my_range() missing 1 required positional argument: 'x'"
     ]
    }
   ],
   "source": [
    "def my_range(x):\n",
    "    i = 0\n",
    "    while i < x:\n",
    "        yield i\n",
    "        i += 1\n",
    "my_range()"
   ]
  },
  {
   "cell_type": "code",
   "execution_count": null,
   "metadata": {},
   "outputs": [],
   "source": []
  }
 ],
 "metadata": {
  "kernelspec": {
   "display_name": "Python 3",
   "language": "python",
   "name": "python3"
  },
  "language_info": {
   "codemirror_mode": {
    "name": "ipython",
    "version": 3
   },
   "file_extension": ".py",
   "mimetype": "text/x-python",
   "name": "python",
   "nbconvert_exporter": "python",
   "pygments_lexer": "ipython3",
   "version": "3.7.7"
  }
 },
 "nbformat": 4,
 "nbformat_minor": 4
}
